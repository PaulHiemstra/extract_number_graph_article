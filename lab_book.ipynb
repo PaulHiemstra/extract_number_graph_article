{
 "cells": [
  {
   "attachments": {},
   "cell_type": "markdown",
   "metadata": {},
   "source": [
    "# Introduction\n",
    "The best way to read this labbook is in VS Code. There you can access the outline tab on the left hand side, below the explorer. The below are written per day that I work on this project, and can be read in chronological order. "
   ]
  },
  {
   "attachments": {},
   "cell_type": "markdown",
   "metadata": {},
   "source": [
    "# 31-12-2022: The first step\n",
    "For the gas usage article I recently wrote I really wanted to go into the hourly data. My energy provider sadly only allows me to download daily data, which I have done from 2014 to now. I cannot download the data, but it is accesible from the web interface as a graph. I though, what if I train a neural network to read the image and present the measurements as output. Once the model is trained, I can simply screenshot the graphs, save them to disk and use my trained model to extract the measurements. Note that I purposefully did not search for solutions that I can use out-of-the-box, the goal is to create a solution from scratch for my enjoyment and learning. \n",
    "\n",
    "As I am not sure that I will have a lot of input images that I can screencap, I will pretrain the model with graphs that I generate myself. This is much easier as I can just create graphs ad-infinitum. As an example, the graph in the webinterface looks like this:\n",
    "\n",
    "<img src=\"pics/example_screenshot_webinterface.png\" width=\"800\" />\n",
    "\n",
    "The following code tries to mimic this style and graph. I'm not sure how closely the pretrained images need to match the goal image, but I guess we'll have to find out. The code:"
   ]
  },
  {
   "cell_type": "code",
   "execution_count": 1,
   "metadata": {},
   "outputs": [
    {
     "name": "stderr",
     "output_type": "stream",
     "text": [
      "/usr/local/lib/python3.8/dist-packages/plotnine/scales/scale.py:102: PlotnineWarning: scale_y_continuous could not recognise parameter `position`\n"
     ]
    },
    {
     "data": {
      "image/png": "[encoded data removed]",
      "text/plain": [
       "<Figure size 640x480 with 1 Axes>"
      ]
     },
     "metadata": {},
     "output_type": "display_data"
    },
    {
     "data": {
      "text/plain": [
       "<ggplot: (8767305270498)>"
      ]
     },
     "execution_count": 1,
     "metadata": {},
     "output_type": "execute_result"
    }
   ],
   "source": [
    "import pandas as pd\n",
    "import numpy as np\n",
    "from plotnine import *\n",
    "\n",
    "plot_data = pd.DataFrame({'hour': np.arange(0,24), \n",
    "                          'gas_usage': np.random.uniform(0,5, size=24)})\n",
    "\n",
    "(\n",
    "    ggplot(plot_data) + geom_bar(aes(x='factor(hour)', y='gas_usage'), stat='identity') + scale_y_continuous(position=\"right\")\n",
    ")"
   ]
  },
  {
   "attachments": {},
   "cell_type": "markdown",
   "metadata": {},
   "source": [
    "Note that the axis is on the left in stead of the right, and the style is not exactly the same. But for now we can start building towards getting the values from this kind of graph. If this works, I'm fairly sure a simple axis swap should not be the biggest issue. The next step is to create the simplest possible iteration of the above problem: a barchart with a single bar (features) and a single value (label). "
   ]
  },
  {
   "attachments": {},
   "cell_type": "markdown",
   "metadata": {},
   "source": [
    "# 01-01-2023: Setup of the first experiment\n",
    "\n",
    "The experiment we want to setup has the graph as features, and the gas usage values as labels. The goal is to train a neural network that can extract the numbers from the graph automatically. During training it needs to recognize that:\n",
    "\n",
    "- the numbers to the left hand side represent the scale\n",
    "- the height of the bar relative to this scale shows the measured value\n",
    "\n",
    "The first experiment we want to perform is with just one bar in the graph and one number as a label. Starting simply will make it easier to see if this approach can work at all. \n",
    "\n",
    "But first we need to be able to generate graphs and labels on the fly using a function. We need three things from the function:\n",
    "\n",
    "- the label\n",
    "- the plot (gg object plotnine)\n",
    "- 2D (black and white) or 3D (RGB) numpy array that represents the numeric color values\n",
    "\n",
    "The first two are relatively simple to get, the last one is a bit of a challenge, so let's start with that. \n",
    "\n",
    "### Plotnine image to numpy array\n",
    "We want to have the image as a numpy array so we can use it in a keras neural network. There are a number of steps we need to take:\n",
    "\n",
    "- Save plotnine png stuff to an in-memory object and not on disk, see [this link](https://stackoverflow.com/questions/65528639/how-to-save-a-file-into-a-buffer).\n",
    "- Convert the image to gray scale. This severly reduces the amount of data that is put into the neural network. We probably do not need the color info as the training, in my judgement, is primarily aimed to figuring out the relation between the height of the bar and the corresponding value on the y-axis. Color does not play a significant role I think. ([this link](https://www.pluralsight.com/guides/importing-image-data-into-numpy-arrays)). We could also use the [Grayscale layer](https://keras.io/api/keras_cv/layers/preprocessing/grayscale/) in Keras, but this would mean our dataset we generate would become a lot bigger. \n",
    "- Convert the png to a numpy array. ([this link](https://www.pluralsight.com/guides/importing-image-data-into-numpy-arrays))\n",
    "\n",
    "First we make a very simple plot:"
   ]
  },
  {
   "cell_type": "code",
   "execution_count": 27,
   "metadata": {},
   "outputs": [
    {
     "data": {
      "image/png": "[encoded data removed]",
      "text/plain": [
       "<Figure size 640x480 with 1 Axes>"
      ]
     },
     "metadata": {},
     "output_type": "display_data"
    },
    {
     "data": {
      "text/plain": [
       "<ggplot: (8747300078933)>"
      ]
     },
     "execution_count": 27,
     "metadata": {},
     "output_type": "execute_result"
    }
   ],
   "source": [
    "import pandas as pd\n",
    "import numpy as np\n",
    "from plotnine import *\n",
    "\n",
    "plot_data = pd.DataFrame({'hour': np.arange(0,1), \n",
    "                          'gas_usage': np.random.uniform(0,5, size=1)})\n",
    "\n",
    "gg = (\n",
    "    ggplot(plot_data) + geom_bar(aes(x='factor(hour)', y='gas_usage'), stat='identity')\n",
    ")\n",
    "gg"
   ]
  },
  {
   "attachments": {},
   "cell_type": "markdown",
   "metadata": {},
   "source": [
    "Then we load the png into an io buffer and confirm this is the exact same image:"
   ]
  },
  {
   "cell_type": "code",
   "execution_count": 44,
   "metadata": {},
   "outputs": [
    {
     "name": "stderr",
     "output_type": "stream",
     "text": [
      "/usr/local/lib/python3.8/dist-packages/plotnine/ggplot.py:718: PlotnineWarning: Saving 6.4 x 4.8 in image.\n",
      "/usr/local/lib/python3.8/dist-packages/plotnine/ggplot.py:719: PlotnineWarning: Filename: <_io.BytesIO object at 0x7f4a3aa10630>\n"
     ]
    },
    {
     "data": {
      "text/plain": [
       "PIL.Image.Image"
      ]
     },
     "execution_count": 44,
     "metadata": {},
     "output_type": "execute_result"
    }
   ],
   "source": [
    "import io\n",
    "from tensorflow.keras.utils import load_img, img_to_array, array_to_img\n",
    "\n",
    "buffer = io.BytesIO()\n",
    "gg.save(buffer)\n",
    "read_image = load_img(buffer)\n",
    "read_image"
   ]
  },
  {
   "attachments": {},
   "cell_type": "markdown",
   "metadata": {},
   "source": [
    "Then we convert the image to a numpy array:"
   ]
  },
  {
   "cell_type": "code",
   "execution_count": 50,
   "metadata": {},
   "outputs": [
    {
     "data": {
      "text/plain": [
       "(430, 563, 3)"
      ]
     },
     "execution_count": 50,
     "metadata": {},
     "output_type": "execute_result"
    }
   ],
   "source": [
    "numerical_representation = img_to_array(read_image)\n",
    "numerical_representation.shape"
   ]
  },
  {
   "attachments": {},
   "cell_type": "markdown",
   "metadata": {},
   "source": [
    "The final step is to check if the array we generated contains the same image as we expected. Note we did not convert to grayscale here, that is not supported by `array_to_img`:"
   ]
  },
  {
   "cell_type": "code",
   "execution_count": 51,
   "metadata": {},
   "outputs": [
    {
     "data": {
      "image/png": "[encoded data removed]",
      "text/plain": [
       "<PIL.Image.Image image mode=RGB size=563x430>"
      ]
     },
     "execution_count": 51,
     "metadata": {},
     "output_type": "execute_result"
    }
   ],
   "source": [
    "array_to_img(numerical_representation)"
   ]
  },
  {
   "attachments": {},
   "cell_type": "markdown",
   "metadata": {},
   "source": [
    "### Pooling all the code into a few functions\n",
    "Now we combine the code we tested above in a set of functions we can use later on. The functions can be found in `support_functions.py`:"
   ]
  },
  {
   "cell_type": "code",
   "execution_count": 11,
   "metadata": {},
   "outputs": [
    {
     "name": "stderr",
     "output_type": "stream",
     "text": [
      "/usr/local/lib/python3.8/dist-packages/plotnine/ggplot.py:718: PlotnineWarning: Saving 6.4 x 4.8 in image.\n",
      "/usr/local/lib/python3.8/dist-packages/plotnine/ggplot.py:719: PlotnineWarning: Filename: <_io.BytesIO object at 0x7f0ed12cdae0>\n"
     ]
    }
   ],
   "source": [
    "from support_functions import create_feature_label_pair\n",
    "import numpy as np\n",
    "\n",
    "label, plot, features = create_feature_label_pair(24, grayscale=False) "
   ]
  },
  {
   "cell_type": "code",
   "execution_count": 12,
   "metadata": {},
   "outputs": [
    {
     "name": "stdout",
     "output_type": "stream",
     "text": [
      "0    0.501000\n",
      "1    2.299832\n",
      "Name: gas_usage, dtype: float64\n"
     ]
    },
    {
     "data": {
      "image/png": "[encoded data removed]",
      "text/plain": [
       "<Figure size 640x480 with 1 Axes>"
      ]
     },
     "metadata": {},
     "output_type": "display_data"
    },
    {
     "name": "stdout",
     "output_type": "stream",
     "text": [
      "\n"
     ]
    },
    {
     "data": {
      "image/png": "[encoded data removed]",
      "text/plain": [
       "<PIL.Image.Image image mode=RGB size=551x430>"
      ]
     },
     "execution_count": 12,
     "metadata": {},
     "output_type": "execute_result"
    }
   ],
   "source": [
    "from tensorflow.keras.utils import array_to_img\n",
    "\n",
    "# Test the outcome\n",
    "print(label[0:2])\n",
    "print(plot)\n",
    "array_to_img(features)"
   ]
  },
  {
   "attachments": {},
   "cell_type": "markdown",
   "metadata": {},
   "source": [
    "This test checks out, the code seems to be working! The following shrinks the image quite heavily, converts to grayscale. It also seems to work fine:"
   ]
  },
  {
   "cell_type": "code",
   "execution_count": 27,
   "metadata": {},
   "outputs": [
    {
     "name": "stderr",
     "output_type": "stream",
     "text": [
      "/usr/local/lib/python3.8/dist-packages/plotnine/ggplot.py:718: PlotnineWarning: Saving 3 x 3 in image.\n",
      "/usr/local/lib/python3.8/dist-packages/plotnine/ggplot.py:719: PlotnineWarning: Filename: <_io.BytesIO object at 0x7f0ed09eec20>\n"
     ]
    },
    {
     "name": "stdout",
     "output_type": "stream",
     "text": [
      "0    1.228713\n",
      "Name: gas_usage, dtype: float64\n"
     ]
    },
    {
     "data": {
      "image/png": "[encoded data removed]",
      "text/plain": [
       "<Figure size 640x480 with 1 Axes>"
      ]
     },
     "metadata": {},
     "output_type": "display_data"
    },
    {
     "name": "stdout",
     "output_type": "stream",
     "text": [
      "\n",
      "(88, 92)\n"
     ]
    },
    {
     "data": {
      "image/png": "[encoded data removed]",
      "text/plain": [
       "<PIL.Image.Image image mode=L size=92x88>"
      ]
     },
     "execution_count": 27,
     "metadata": {},
     "output_type": "execute_result"
    }
   ],
   "source": [
    "label, plot, features = create_feature_label_pair(1, grayscale=True, ggsave_args={'width': 3, 'height': 3, 'dpi': 30}) \n",
    "\n",
    "# Test the outcome\n",
    "print(label[0:2])\n",
    "print(plot)\n",
    "print(features.shape)\n",
    "array_to_img(np.expand_dims(features, axis=2)) # Epand dims because `array_to_img` needs the size 1 color dimension"
   ]
  },
  {
   "attachments": {},
   "cell_type": "markdown",
   "metadata": {},
   "source": [
    "# 02-01-2023: Continue building the first dataset\n",
    "### Making image size consistent: upsample vs downsample\n",
    "When regenerating the images multiple times, the x,y shape is not consistent. This is an issue as this makes it hard to collate the images into one big multidimensional array for keras. The following code snippet recreates the issue: "
   ]
  },
  {
   "cell_type": "code",
   "execution_count": 4,
   "metadata": {},
   "outputs": [
    {
     "data": {
      "text/plain": [
       "[(88, 87),\n",
       " (88, 90),\n",
       " (88, 90),\n",
       " (88, 87),\n",
       " (88, 92),\n",
       " (88, 87),\n",
       " (88, 87),\n",
       " (88, 90),\n",
       " (88, 90),\n",
       " (88, 87)]"
      ]
     },
     "execution_count": 4,
     "metadata": {},
     "output_type": "execute_result"
    }
   ],
   "source": [
    "from support_functions import create_feature_label_pair\n",
    "\n",
    "def get_shape():\n",
    "    label, plot, features = create_feature_label_pair(1, grayscale=True, ggsave_args={'width': 3, 'height': 3, 'dpi': 30, 'verbose': False}) \n",
    "    return features.shape\n",
    "\n",
    "shapes = [get_shape() for i in range(10)]\n",
    "shapes"
   ]
  },
  {
   "attachments": {},
   "cell_type": "markdown",
   "metadata": {},
   "source": [
    "The x,y shapes change in the snippet above. The solution I feel would work is to simply interpolate the images to a fixed resolution. \n",
    "\n",
    "- A choice we have to make is if we create the image at a higher res using plotnine and downsample to a common resolution, or the other way around. I'm not sure if it matters at all, as long as the height of the bar is clear, and the labels on the y-axis are legible. \n",
    "- Another choice is wether we resample the png image, or the numpy array. \n",
    "\n",
    "A promising candidate is `tf.image.resize` from the tensorflow library. "
   ]
  },
  {
   "cell_type": "code",
   "execution_count": 30,
   "metadata": {},
   "outputs": [
    {
     "name": "stdout",
     "output_type": "stream",
     "text": [
      "(874, 922, 3)\n"
     ]
    },
    {
     "data": {
      "image/png": "[encoded data removed]",
      "text/plain": [
       "<PIL.Image.Image image mode=RGB size=250x250>"
      ]
     },
     "execution_count": 30,
     "metadata": {},
     "output_type": "execute_result"
    }
   ],
   "source": [
    "from support_functions import create_feature_label_pair, plot_image_array\n",
    "from tensorflow.image import resize\n",
    "\n",
    "label, plot, features = create_feature_label_pair(1, grayscale=False, ggsave_args={'width': 3, 'height': 3, 'dpi': 300, 'verbose': False}) \n",
    "\n",
    "print(features.shape)\n",
    "plot_image_array(resize(features, (250,250)))"
   ]
  },
  {
   "attachments": {},
   "cell_type": "markdown",
   "metadata": {},
   "source": [
    "Rendering the image at a higher res, and then downsampling to `250x250` pxiels seems to give an image that looks readable to me. Next we integrate resizing the image into `ggplot_to_numpy_array`:"
   ]
  },
  {
   "cell_type": "code",
   "execution_count": 51,
   "metadata": {},
   "outputs": [
    {
     "name": "stdout",
     "output_type": "stream",
     "text": [
      "(250, 250, 1)\n"
     ]
    },
    {
     "name": "stderr",
     "output_type": "stream",
     "text": [
      "/usr/local/lib/python3.8/dist-packages/plotnine/ggplot.py:718: PlotnineWarning: Saving 6.4 x 4.8 in image.\n",
      "/usr/local/lib/python3.8/dist-packages/plotnine/ggplot.py:719: PlotnineWarning: Filename: <_io.BytesIO object at 0x7f0dc9618180>\n"
     ]
    },
    {
     "data": {
      "image/png": "[encoded data removed]",
      "text/plain": [
       "<PIL.Image.Image image mode=L size=250x250>"
      ]
     },
     "execution_count": 51,
     "metadata": {},
     "output_type": "execute_result"
    }
   ],
   "source": [
    "from tensorflow.image import resize\n",
    "from tensorflow.keras.utils import load_img, img_to_array, array_to_img\n",
    "import io\n",
    "import numpy as np\n",
    "from support_functions import create_feature_label_pair, plot_image_array\n",
    "\n",
    "def ggplot_to_numpy_array(gg, grayscale=True, resize_to=None, ggsave_args={}):\n",
    "    '''\n",
    "    Return a ggplot object (plotnine) as a numpy array. \n",
    "    Optionally reduce the image to grayscale first. \n",
    "    Any args to gg.save can be passed to `ggsave_args` as a dictonary\n",
    "    '''\n",
    "    buffer = io.BytesIO()\n",
    "    gg.save(buffer, **ggsave_args)\n",
    "    im = load_img(buffer)  \n",
    "\n",
    "    if grayscale:\n",
    "        im = im.convert('L')\n",
    "    arr = img_to_array(im)\n",
    "    if not resize_to is None:\n",
    "        arr = resize(arr, resize_to)\n",
    "\n",
    "    return arr  ## Note I removed the np.squeeze. Keras can simply deal with the fact that there is just one channel. It maybe even needs it looking at the behaviour of `tf.image.resize`. \n",
    "\n",
    "label, plot, features = create_feature_label_pair(1, grayscale=False, ggsave_args={'width': 3, 'height': 3, 'dpi': 300, 'verbose': False}) \n",
    "arr = ggplot_to_numpy_array(plot, grayscale=True, resize_to=(250,250))\n",
    "print(arr.shape)\n",
    "array_to_img(arr)"
   ]
  },
  {
   "attachments": {},
   "cell_type": "markdown",
   "metadata": {},
   "source": [
    "### Optimizing the plotting area\n",
    "A lot of the plotting area is taken up by useless space:"
   ]
  },
  {
   "cell_type": "code",
   "execution_count": 55,
   "metadata": {},
   "outputs": [
    {
     "data": {
      "image/png": "[encoded data removed]",
      "text/plain": [
       "<Figure size 640x480 with 1 Axes>"
      ]
     },
     "metadata": {},
     "output_type": "display_data"
    },
    {
     "data": {
      "text/plain": [
       "<ggplot: (8731074781669)>"
      ]
     },
     "execution_count": 55,
     "metadata": {},
     "output_type": "execute_result"
    }
   ],
   "source": [
    "label, plot, features = create_feature_label_pair(1, grayscale=False, ggsave_args={'dpi': 300, 'verbose': False}) \n",
    "plot"
   ]
  },
  {
   "attachments": {},
   "cell_type": "markdown",
   "metadata": {},
   "source": [
    "Some optimizations when taking into account that we only need the y-axis labels and the height of the bar:\n",
    "\n",
    "- Reduce the width of the plot\n",
    "- Remove axis titles"
   ]
  },
  {
   "cell_type": "code",
   "execution_count": 15,
   "metadata": {},
   "outputs": [
    {
     "name": "stdout",
     "output_type": "stream",
     "text": [
      "(200, 100, 1)\n"
     ]
    },
    {
     "data": {
      "image/png": "[encoded data removed]",
      "text/plain": [
       "<PIL.Image.Image image mode=L size=100x200>"
      ]
     },
     "execution_count": 15,
     "metadata": {},
     "output_type": "execute_result"
    }
   ],
   "source": [
    "from support_functions import create_feature_label_pair\n",
    "from plotnine import element_blank\n",
    "from tensorflow.keras.utils import array_to_img\n",
    "\n",
    "label, plot, features = create_feature_label_pair(1, grayscale=True, \n",
    "    resize_to=(200, 100), \n",
    "    ggsave_args={'dpi': 300, 'verbose': False}, \n",
    "    ggtheme_args={'figure_size': (1,3), 'axis_title': element_blank()}) \n",
    "print(features.shape)\n",
    "array_to_img(features)"
   ]
  },
  {
   "attachments": {},
   "cell_type": "markdown",
   "metadata": {},
   "source": [
    "These combination of settings (1:3 ratio plot, 200:100 pixels) seem to be a good balance between the size of the dataset and the readability of especially the axis labels. But further exeriments actually training based on this data will show us what really works or not, but as a first guess this will suffice. "
   ]
  },
  {
   "attachments": {},
   "cell_type": "markdown",
   "metadata": {},
   "source": [
    "### Creating an input dataset for Keras\n",
    "Now that we have the functions all setup, we can start to generate the required input data for our Keras network. What our Keras network needs is a dataset with shape `(samples, x, y)` as features and `(samples, 1)` as labels. "
   ]
  },
  {
   "cell_type": "code",
   "execution_count": 7,
   "metadata": {},
   "outputs": [],
   "source": [
    "from support_functions import create_feature_label_pair\n",
    "from plotnine import element_blank\n",
    "from tensorflow.keras.utils import array_to_img\n",
    "from tensorflow import stack\n",
    "\n",
    "def get_pair():\n",
    "    label, plot, features = create_feature_label_pair(1, grayscale=True, \n",
    "        resize_to=(200, 100), \n",
    "        ggsave_args={'dpi': 300, 'verbose': False}, \n",
    "        ggtheme_args={'figure_size': (1,3), 'axis_title': element_blank()}) \n",
    "\n",
    "    return {'label': label, 'features': features}\n",
    "\n",
    "n = 1000\n",
    "data_dict_list = [get_pair() for i in range(n)]\n",
    "features = stack([el['features'] for el in data_dict_list], axis=0)\n",
    "labels = stack([el['label'] for el in data_dict_list])"
   ]
  },
  {
   "cell_type": "code",
   "execution_count": 6,
   "metadata": {},
   "outputs": [
    {
     "name": "stdout",
     "output_type": "stream",
     "text": [
      "(100, 200, 100, 1)\n",
      "(100, 1)\n"
     ]
    }
   ],
   "source": [
    "print(features.shape)\n",
    "print(labels.shape)"
   ]
  },
  {
   "attachments": {},
   "cell_type": "markdown",
   "metadata": {},
   "source": [
    "# 06-01-2023: Feeding our data to Keras\n",
    "One final step before feeding our model into Keras is to wrap the model in a generator. Normally Keras reads data from stuff like pandas `DataFrame`, numpy arrays or tensors. This means the data needs to be all in memory all at the same time. During training, there is no need for the data to all be in memory as we can batch the data. `tf.data.Dataset` provides an abstraction layer where for Keras the dataset seems as normal, but behind the abstraction all kinds of additional steps can be taken. For example, read chunks of data from a Sprak cluster, preprocessing the data, etc. \n",
    "\n",
    "In our case we generate the data on the fly using `plotnine`. So now we are left with two choices in term of data: generate a dataset before feeding it into Keras, or using a generator to generate the data as we go. Using a generator has the advantage that we can keep generating data ad-infinitum without having the overhead of pre-computing the dataset. A downside could be that generating the data in between slows down the training, but this depends on how long the data generation takes in comparison to the training on that data. For now, also because I want to explore generators, we'll use a generator. \n",
    "\n",
    "TODO:\n",
    "- Look at using the above data as a generator, this would mean you can let Keras generate the data per batch and in essence train infintely. [link1](https://medium.com/analytics-vidhya/write-your-own-custom-data-generator-for-tensorflow-keras-1252b64e41c3) [link2](https://www.tensorflow.org/guide/data)\n",
    "\n",
    "We can create a `tf.data.Dataset` from a [Python generator](https://wiki.python.org/moin/Generators). From what I understand in the documentation, the generator should yield a features/label pair and `Dataset` will take care of the rest. "
   ]
  },
  {
   "cell_type": "code",
   "execution_count": 1,
   "metadata": {},
   "outputs": [
    {
     "name": "stderr",
     "output_type": "stream",
     "text": [
      "/usr/lib/python3/dist-packages/requests/__init__.py:89: RequestsDependencyWarning: urllib3 (1.26.13) or chardet (3.0.4) doesn't match a supported version!\n"
     ]
    }
   ],
   "source": [
    "from support_functions import create_feature_label_pair\n",
    "from plotnine import element_blank\n",
    "from tensorflow.data import Dataset\n",
    "from tensorflow import TensorSpec, float32\n",
    "\n",
    "def plot_label_generator():\n",
    "    label, plot, features = create_feature_label_pair(1, grayscale=True, \n",
    "        resize_to=(200, 100), \n",
    "        ggsave_args={'dpi': 300, 'verbose': False}, \n",
    "        ggtheme_args={'figure_size': (1,3), 'axis_title': element_blank()}) \n",
    "\n",
    "    yield features / 255, label   # Yield makes it a Python generator, divide by 255 to scale the data to between 0-1\n",
    "\n",
    "plot_label_dataset = Dataset.from_generator(plot_label_generator, \n",
    "                                    output_signature = ( TensorSpec(shape=(200,100, 1), dtype=float32),     # sig: x, y, channels (1=grayscale)\n",
    "                                                         TensorSpec(shape=(1,), dtype=float32),))"
   ]
  },
  {
   "cell_type": "code",
   "execution_count": 116,
   "metadata": {},
   "outputs": [
    {
     "name": "stdout",
     "output_type": "stream",
     "text": [
      "tf.Tensor([2.518175], shape=(1,), dtype=float32)\n"
     ]
    },
    {
     "data": {
      "image/png": "[encoded data removed]",
      "text/plain": [
       "<PIL.Image.Image image mode=L size=100x200>"
      ]
     },
     "execution_count": 116,
     "metadata": {},
     "output_type": "execute_result"
    }
   ],
   "source": [
    "from tensorflow.keras.utils import array_to_img\n",
    "\n",
    "datapoint = list(plot_label_dataset.take(1))[0]\n",
    "print(datapoint[1])\n",
    "array_to_img(datapoint[0])"
   ]
  },
  {
   "attachments": {},
   "cell_type": "markdown",
   "metadata": {},
   "source": [
    "`plot_label_dataset` is now a `tf.data.Dataset` object which can spit out image-label pairs as needed. The next step is, if I read this tutorial correctly, to simply use `plot_label_dataset` where we would normally use a normal dataset. \n",
    "\n",
    "Below I have a relatively simple network where I start with a regression dense layer setup I copied from Chollet (p 115). From that I expanded the number of layers and the number of neurons per layer. The idea is to create a sufficiently large enough network that will overfit, or at least show a bit of drop in loss. I don't expect to be able to solve the problem with high performance, but we should at least solve the problem somewhat. \n",
    "\n",
    "Some notes on the code below: \n",
    "\n",
    "- Note that we do not split the data explicitly, we just have two different generators that generate data for testing and training. Now test this with a very simple Keras model [I stole from](https://www.tensorflow.org/tutorials/keras/regression#regression_with_a_deep_neural_network_dnn):\n",
    "- We have to use `.repeat` or else we will only be able to generate a single example features/label pair. \n",
    "- We have to set batch size on `plot_label_dataset`\n",
    "- I use RMSEprop as this was what Chollet used, just as with loss = 'mse'. \n",
    "- I slowly made the learning rate for RMSprop smaller up to a value of ``\n",
    "- the layer sizes taper off towards the final dense layer. This is meant to force the model to come up with more compact representations further up in the model. "
   ]
  },
  {
   "cell_type": "code",
   "execution_count": 181,
   "metadata": {},
   "outputs": [
    {
     "name": "stdout",
     "output_type": "stream",
     "text": [
      "Epoch 1/100\n",
      "48/48 [==============================] - 9s 154ms/step - loss: 2.0959 - mae: 1.2103 - val_loss: 1.6063 - val_mae: 1.2620\n",
      "Epoch 2/100\n",
      "48/48 [==============================] - 9s 183ms/step - loss: 2.4922 - mae: 1.3352 - val_loss: 0.8871 - val_mae: 0.8106\n",
      "Epoch 3/100\n",
      "48/48 [==============================] - 8s 171ms/step - loss: 2.1100 - mae: 1.2174 - val_loss: 1.1297 - val_mae: 0.9909\n",
      "Epoch 4/100\n",
      "48/48 [==============================] - 7s 154ms/step - loss: 1.5479 - mae: 1.0719 - val_loss: 1.0976 - val_mae: 0.7944\n",
      "Epoch 5/100\n",
      "48/48 [==============================] - 8s 174ms/step - loss: 1.0110 - mae: 0.8142 - val_loss: 0.2461 - val_mae: 0.3897\n",
      "Epoch 6/100\n",
      "48/48 [==============================] - 7s 153ms/step - loss: 0.4732 - mae: 0.5371 - val_loss: 0.3818 - val_mae: 0.4739\n",
      "Epoch 7/100\n",
      "48/48 [==============================] - 8s 167ms/step - loss: 0.4324 - mae: 0.5429 - val_loss: 0.4414 - val_mae: 0.5551\n",
      "Epoch 8/100\n",
      "48/48 [==============================] - 7s 155ms/step - loss: 0.7579 - mae: 0.7231 - val_loss: 0.1970 - val_mae: 0.3667\n",
      "Epoch 9/100\n",
      "48/48 [==============================] - 7s 157ms/step - loss: 0.5711 - mae: 0.6429 - val_loss: 0.6831 - val_mae: 0.6646\n",
      "Epoch 10/100\n",
      "48/48 [==============================] - 8s 172ms/step - loss: 0.6359 - mae: 0.6972 - val_loss: 0.7642 - val_mae: 0.8315\n",
      "Epoch 11/100\n",
      "48/48 [==============================] - 7s 151ms/step - loss: 0.6003 - mae: 0.6180 - val_loss: 0.4314 - val_mae: 0.4767\n",
      "Epoch 12/100\n",
      "48/48 [==============================] - 7s 153ms/step - loss: 0.6248 - mae: 0.6428 - val_loss: 0.9433 - val_mae: 0.7732\n",
      "Epoch 13/100\n",
      "48/48 [==============================] - 8s 173ms/step - loss: 0.8852 - mae: 0.7644 - val_loss: 0.6289 - val_mae: 0.7506\n",
      "Epoch 14/100\n",
      "48/48 [==============================] - 7s 148ms/step - loss: 0.8603 - mae: 0.7637 - val_loss: 0.9727 - val_mae: 0.8741\n",
      "Epoch 15/100\n",
      "48/48 [==============================] - 7s 148ms/step - loss: 0.5356 - mae: 0.6089 - val_loss: 0.7743 - val_mae: 0.8493\n",
      "Epoch 16/100\n",
      "48/48 [==============================] - 9s 183ms/step - loss: 0.4919 - mae: 0.6145 - val_loss: 0.4238 - val_mae: 0.5269\n",
      "Epoch 17/100\n",
      "48/48 [==============================] - 7s 159ms/step - loss: 0.6448 - mae: 0.6660 - val_loss: 0.7685 - val_mae: 0.7899\n",
      "Epoch 18/100\n",
      "48/48 [==============================] - 7s 155ms/step - loss: 0.7284 - mae: 0.7078 - val_loss: 0.0670 - val_mae: 0.2333\n",
      "Epoch 19/100\n",
      "48/48 [==============================] - 7s 156ms/step - loss: 0.4707 - mae: 0.5909 - val_loss: 0.4060 - val_mae: 0.6075\n",
      "Epoch 20/100\n",
      "48/48 [==============================] - 9s 181ms/step - loss: 0.6724 - mae: 0.6593 - val_loss: 1.8358 - val_mae: 1.2660\n",
      "Epoch 21/100\n",
      "48/48 [==============================] - 7s 153ms/step - loss: 0.6990 - mae: 0.6736 - val_loss: 0.4395 - val_mae: 0.5304\n",
      "Epoch 22/100\n",
      "48/48 [==============================] - 7s 152ms/step - loss: 0.5740 - mae: 0.6500 - val_loss: 0.5971 - val_mae: 0.7078\n",
      "Epoch 23/100\n",
      "48/48 [==============================] - 7s 155ms/step - loss: 0.4557 - mae: 0.5685 - val_loss: 0.5338 - val_mae: 0.5623\n",
      "Epoch 24/100\n",
      "48/48 [==============================] - 8s 162ms/step - loss: 0.4579 - mae: 0.5432 - val_loss: 0.6002 - val_mae: 0.7740\n",
      "Epoch 25/100\n",
      "48/48 [==============================] - 9s 183ms/step - loss: 0.5397 - mae: 0.6035 - val_loss: 0.3555 - val_mae: 0.4421\n",
      "Epoch 26/100\n",
      "48/48 [==============================] - 8s 161ms/step - loss: 0.4924 - mae: 0.5877 - val_loss: 0.5513 - val_mae: 0.6286\n",
      "Epoch 27/100\n",
      "48/48 [==============================] - 8s 161ms/step - loss: 0.6912 - mae: 0.7492 - val_loss: 0.2170 - val_mae: 0.3824\n",
      "Epoch 28/100\n",
      "48/48 [==============================] - 8s 159ms/step - loss: 0.5131 - mae: 0.6101 - val_loss: 1.5247 - val_mae: 1.1055\n",
      "Epoch 29/100\n",
      "48/48 [==============================] - 7s 156ms/step - loss: 0.4609 - mae: 0.5525 - val_loss: 0.5586 - val_mae: 0.6668\n",
      "Epoch 30/100\n",
      "48/48 [==============================] - 7s 159ms/step - loss: 0.4043 - mae: 0.5062 - val_loss: 0.4846 - val_mae: 0.5926\n",
      "Epoch 31/100\n",
      "48/48 [==============================] - 9s 199ms/step - loss: 0.6007 - mae: 0.6852 - val_loss: 0.8977 - val_mae: 0.8608\n",
      "Epoch 32/100\n",
      "48/48 [==============================] - 7s 155ms/step - loss: 0.5351 - mae: 0.6208 - val_loss: 0.3500 - val_mae: 0.4958\n",
      "Epoch 33/100\n",
      "48/48 [==============================] - 7s 156ms/step - loss: 0.5219 - mae: 0.6181 - val_loss: 0.8911 - val_mae: 0.8885\n",
      "Epoch 34/100\n",
      "48/48 [==============================] - 100s 2s/step - loss: 0.5638 - mae: 0.6436 - val_loss: 0.4645 - val_mae: 0.5061\n",
      "Epoch 35/100\n",
      " 1/48 [..............................] - ETA: 17:22 - loss: 0.1719 - mae: 0.4146"
     ]
    }
   ],
   "source": [
    "import tensorflow as tf\n",
    "import pandas as pd\n",
    "%matplotlib inline\n",
    "\n",
    "BATCH_SIZE = 2048\n",
    "no_samples_to_generate = 100000\n",
    "steps_per_epoch = no_samples_to_generate // BATCH_SIZE\n",
    "\n",
    "train_dataset = plot_label_dataset.batch(BATCH_SIZE).repeat(count=no_samples_to_generate)\n",
    "test_dataset = plot_label_dataset.batch(BATCH_SIZE).repeat(count=5) # Perform validation on a number of samples to average out the loss a bit in the graph\n",
    "\n",
    "graph_model = tf.keras.Sequential([\n",
    "    tf.keras.layers.Flatten(input_shape=(200, 100, 1)),     # Flatten because we feed it into dense layers\n",
    "    tf.keras.layers.Dense(256, activation='relu'),\n",
    "    tf.keras.layers.Dense(128, activation='relu'),\n",
    "    tf.keras.layers.Dense(64, activation='relu'),\n",
    "    tf.keras.layers.Dense(32, activation='relu'),\n",
    "    tf.keras.layers.Dense(16, activation='relu'),\n",
    "    tf.keras.layers.Dense(8, activation='relu'),\n",
    "    tf.keras.layers.Dense(1)                             # We predict just one value here, regression problem\n",
    "])\n",
    "\n",
    "graph_model.compile(optimizer=tf.keras.optimizers.Adam(0.0001),\n",
    "                            loss='mse', metrics=['mae'])\n",
    "# graph_model.compile(optimizer=tf.keras.optimizers.RMSprop(0.001),\n",
    "#                             loss='mse', metrics=['mae'])                            \n",
    "#graph_model.summary()\n",
    "\n",
    "history = graph_model.fit(train_dataset, epochs=100, steps_per_epoch=steps_per_epoch, validation_data=test_dataset, workers=-1)\n",
    "print(graph_model.evaluate(test_dataset))\n",
    "\n",
    "pd.DataFrame({'loss': history.history['loss'], 'val_loss': history.history['val_loss']}).plot(figsize=(3,3))"
   ]
  },
  {
   "attachments": {},
   "cell_type": "markdown",
   "metadata": {},
   "source": [
    "Observations:\n",
    "- Loss definitely drops over time, the model does learn something. \n",
    "- The validation and training loss both osscilate a bit too much for my liking. \n",
    "\n",
    "If we look at a scatter plot of true values versus predicted we get:"
   ]
  },
  {
   "cell_type": "code",
   "execution_count": 180,
   "metadata": {},
   "outputs": [
    {
     "name": "stdout",
     "output_type": "stream",
     "text": [
      "100/100 [==============================] - 14s 140ms/step\n",
      "1.4285375\n"
     ]
    },
    {
     "data": {
      "text/plain": [
       "<AxesSubplot: xlabel='true', ylabel='prediction'>"
      ]
     },
     "execution_count": 180,
     "metadata": {},
     "output_type": "execute_result"
    },
    {
     "data": {
      "image/png": "[encoded data removed]",
      "text/plain": [
       "<Figure size 900x900 with 1 Axes>"
      ]
     },
     "metadata": {},
     "output_type": "display_data"
    }
   ],
   "source": [
    "from sklearn.metrics import mean_absolute_error\n",
    "from plotnine import *\n",
    "import pandas as pd\n",
    "\n",
    "# get 100 test observations\n",
    "test_set = plot_label_dataset.repeat(100).take(100)\n",
    "\n",
    "labels = np.concatenate([y for x, y in test_set], axis=0)\n",
    "prediction = graph_model.predict(test_set)\n",
    "print(mean_absolute_error(labels, prediction))\n",
    "\n",
    "pd.DataFrame({'true': labels.flatten(), 'prediction': prediction.flatten()}).plot.scatter(x='true', y='prediction', figsize=(3,3))\n"
   ]
  },
  {
   "attachments": {},
   "cell_type": "markdown",
   "metadata": {},
   "source": [
    "which does not make me very happy. There is no clear correlation between the true and predicted values, it did however learn the approximate value range it should predict in. But it cannot detect which values are high and which are low. \n",
    "\n",
    "Next we want to check if the data we generated makes sense (I'm a paranoid person :)). The results below show that the plots and the labels line up. "
   ]
  },
  {
   "cell_type": "code",
   "execution_count": 178,
   "metadata": {},
   "outputs": [
    {
     "data": {
      "image/png": "[encoded data removed]",
      "text/plain": [
       "<PIL.Image.Image image mode=L size=100x200>"
      ]
     },
     "execution_count": 178,
     "metadata": {},
     "output_type": "execute_result"
    }
   ],
   "source": [
    "from tensorflow.keras.utils import array_to_img\n",
    "import matplotlib.pyplot as plt\n",
    "%matplotlib inline\n",
    "\n",
    "dat = list(plot_label_dataset.repeat(3).take(3))\n",
    "array_to_img(dat[1][0])\n"
   ]
  },
  {
   "cell_type": "code",
   "execution_count": 179,
   "metadata": {},
   "outputs": [
    {
     "name": "stdout",
     "output_type": "stream",
     "text": [
      "tf.Tensor([1.8047607], shape=(1,), dtype=float32)\n"
     ]
    }
   ],
   "source": [
    "print(dat[1][1])"
   ]
  },
  {
   "attachments": {},
   "cell_type": "markdown",
   "metadata": {},
   "source": [
    "Next steps:\n",
    "- Run the analysis without the generator, to check if I really understand how the genertor works. \n",
    "- Voeg normalisation layer toe tussendoor, bv [batchnormalisation](https://machinelearningmastery.com/how-to-accelerate-learning-of-deep-neural-networks-with-batch-normalization/)\n",
    "- Add conv layers\n",
    "- Play around with dropout en pooling\n",
    "- Kijk naar het optimalisaeren van de learning rate, zie [hier](https://towardsdatascience.com/the-learning-rate-finder-6618dfcb2025)"
   ]
  },
  {
   "attachments": {},
   "cell_type": "markdown",
   "metadata": {},
   "source": [
    "# xx-01-2023: Further dense experiemnts"
   ]
  },
  {
   "cell_type": "code",
   "execution_count": null,
   "metadata": {},
   "outputs": [],
   "source": [
    "model = models.Sequential([\n",
    "    layers.Conv2D(32, (3,3) , activation=\"relu\", input_shape=(32,32,3), padding='same') ,    # We will be using grascale images, so input_shape is probably (x,y)\n",
    "    layers.BatchNormalization(),\n",
    "    layers.Conv2D(32, (3,3) , activation=\"relu\", padding='same') ,                           # The conv kernel size we can leave to (3,3) for now\n",
    "    layers.BatchNormalization(),\n",
    "    layers.MaxPooling2D((2, 2)),\n",
    "    layers.Dropout(0.2),\n",
    "    layers.Conv2D(64, (3,3) , activation=\"relu\", padding='same') , \n",
    "    layers.BatchNormalization(),\n",
    "    layers.Conv2D(64, (3,3) , activation=\"relu\", padding='same') , \n",
    "    layers.BatchNormalization(),\n",
    "    layers.MaxPooling2D((2, 2)),\n",
    "    layers.Dropout(0.3),\n",
    "    layers.Conv2D(128, (3,3) , activation=\"relu\", padding='same') , \n",
    "    layers.BatchNormalization(),\n",
    "    layers.Conv2D(128, (3,3) , activation=\"relu\", padding='same') , \n",
    "    layers.BatchNormalization(),\n",
    "    layers.MaxPooling2D((2, 2)),\n",
    "    layers.Dropout(0.4),\n",
    "    layers.Flatten(),\n",
    "    layers.Dense(128, activation=\"relu\"),\n",
    "    layers.Dropout(0.5),\n",
    "    layers.Dense(10, activation=\"softmax\")\n",
    "])\n",
    "model.compile(optimizer=\"ADAM\",\n",
    "            loss=\"sparse_categorical_crossentropy\",                                             # We are dealing with a regression problem, so this loss function is not appropriate\n",
    "            metrics=[\"accuracy\"])\n",
    "\n",
    "history=model.fit(train_images, train_labels, epochs=5, batch_size=32, validation_data=(test_images, test_labels))"
   ]
  }
 ],
 "metadata": {
  "kernelspec": {
   "display_name": "Python 3",
   "language": "python",
   "name": "python3"
  },
  "language_info": {
   "codemirror_mode": {
    "name": "ipython",
    "version": 3
   },
   "file_extension": ".py",
   "mimetype": "text/x-python",
   "name": "python",
   "nbconvert_exporter": "python",
   "pygments_lexer": "ipython3",
   "version": "3.8.10"
  },
  "orig_nbformat": 4
 },
 "nbformat": 4,
 "nbformat_minor": 2
}
